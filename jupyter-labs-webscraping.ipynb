{
 "cells": [
  {
   "cell_type": "markdown",
   "metadata": {},
   "source": [
    "<p style=\"text-align:center\">\n",
    "    <a href=\"https://skills.network\" target=\"_blank\">\n",
    "    <img src=\"https://cf-courses-data.s3.us.cloud-object-storage.appdomain.cloud/assets/logos/SN_web_lightmode.png\" width=\"200\" alt=\"Skills Network Logo\">\n",
    "    </a>\n",
    "</p>\n"
   ]
  },
  {
   "cell_type": "markdown",
   "metadata": {},
   "source": [
    "# **Space X  Falcon 9 First Stage Landing Prediction**\n"
   ]
  },
  {
   "cell_type": "markdown",
   "metadata": {},
   "source": [
    "## Web scraping Falcon 9 and Falcon Heavy Launches Records from Wikipedia\n"
   ]
  },
  {
   "cell_type": "markdown",
   "metadata": {},
   "source": [
    "Estimated time needed: **40** minutes\n"
   ]
  },
  {
   "cell_type": "markdown",
   "metadata": {},
   "source": [
    "In this lab, you will be performing web scraping to collect Falcon 9 historical launch records from a Wikipedia page titled `List of Falcon 9 and Falcon Heavy launches`\n",
    "\n",
    "https://en.wikipedia.org/wiki/List_of_Falcon_9_and_Falcon_Heavy_launches\n"
   ]
  },
  {
   "cell_type": "markdown",
   "metadata": {},
   "source": [
    "![](https://cf-courses-data.s3.us.cloud-object-storage.appdomain.cloud/IBM-DS0321EN-SkillsNetwork/labs/module_1_L2/images/Falcon9_rocket_family.svg)\n"
   ]
  },
  {
   "cell_type": "markdown",
   "metadata": {},
   "source": [
    "Falcon 9 first stage will land successfully\n"
   ]
  },
  {
   "cell_type": "markdown",
   "metadata": {},
   "source": [
    "![](https://cf-courses-data.s3.us.cloud-object-storage.appdomain.cloud/IBMDeveloperSkillsNetwork-DS0701EN-SkillsNetwork/api/Images/landing_1.gif)\n"
   ]
  },
  {
   "cell_type": "markdown",
   "metadata": {},
   "source": [
    "Several examples of an unsuccessful landing are shown here:\n"
   ]
  },
  {
   "cell_type": "markdown",
   "metadata": {},
   "source": [
    "![](https://cf-courses-data.s3.us.cloud-object-storage.appdomain.cloud/IBMDeveloperSkillsNetwork-DS0701EN-SkillsNetwork/api/Images/crash.gif)\n"
   ]
  },
  {
   "cell_type": "markdown",
   "metadata": {},
   "source": [
    "More specifically, the launch records are stored in a HTML table shown below:\n"
   ]
  },
  {
   "cell_type": "markdown",
   "metadata": {},
   "source": [
    "![](https://cf-courses-data.s3.us.cloud-object-storage.appdomain.cloud/IBM-DS0321EN-SkillsNetwork/labs/module_1_L2/images/falcon9-launches-wiki.png)\n"
   ]
  },
  {
   "cell_type": "markdown",
   "metadata": {},
   "source": [
    "  ## Objectives\n",
    "Web scrap Falcon 9 launch records with `BeautifulSoup`: \n",
    "- Extract a Falcon 9 launch records HTML table from Wikipedia\n",
    "- Parse the table and convert it into a Pandas data frame\n"
   ]
  },
  {
   "cell_type": "markdown",
   "metadata": {},
   "source": [
    "First let's import required packages for this lab\n"
   ]
  },
  {
   "cell_type": "code",
   "execution_count": 1,
   "metadata": {
    "tags": []
   },
   "outputs": [
    {
     "name": "stdout",
     "output_type": "stream",
     "text": [
      "Requirement already satisfied: beautifulsoup4 in /home/jupyterlab/conda/envs/python/lib/python3.7/site-packages (4.11.1)\n",
      "Requirement already satisfied: soupsieve>1.2 in /home/jupyterlab/conda/envs/python/lib/python3.7/site-packages (from beautifulsoup4) (2.3.2.post1)\n",
      "Requirement already satisfied: requests in /home/jupyterlab/conda/envs/python/lib/python3.7/site-packages (2.29.0)\n",
      "Requirement already satisfied: charset-normalizer<4,>=2 in /home/jupyterlab/conda/envs/python/lib/python3.7/site-packages (from requests) (3.1.0)\n",
      "Requirement already satisfied: idna<4,>=2.5 in /home/jupyterlab/conda/envs/python/lib/python3.7/site-packages (from requests) (3.4)\n",
      "Requirement already satisfied: urllib3<1.27,>=1.21.1 in /home/jupyterlab/conda/envs/python/lib/python3.7/site-packages (from requests) (1.26.15)\n",
      "Requirement already satisfied: certifi>=2017.4.17 in /home/jupyterlab/conda/envs/python/lib/python3.7/site-packages (from requests) (2023.5.7)\n"
     ]
    }
   ],
   "source": [
    "!pip3 install beautifulsoup4\n",
    "!pip3 install requests"
   ]
  },
  {
   "cell_type": "code",
   "execution_count": 2,
   "metadata": {
    "tags": []
   },
   "outputs": [],
   "source": [
    "import sys\n",
    "\n",
    "import requests\n",
    "from bs4 import BeautifulSoup\n",
    "import re\n",
    "import unicodedata\n",
    "import pandas as pd"
   ]
  },
  {
   "cell_type": "markdown",
   "metadata": {},
   "source": [
    "and we will provide some helper functions for you to process web scraped HTML table\n"
   ]
  },
  {
   "cell_type": "code",
   "execution_count": 3,
   "metadata": {
    "tags": []
   },
   "outputs": [],
   "source": [
    "def date_time(table_cells):\n",
    "    \"\"\"\n",
    "    This function returns the data and time from the HTML  table cell\n",
    "    Input: the  element of a table data cell extracts extra row\n",
    "    \"\"\"\n",
    "    return [data_time.strip() for data_time in list(table_cells.strings)][0:2]\n",
    "\n",
    "def booster_version(table_cells):\n",
    "    \"\"\"\n",
    "    This function returns the booster version from the HTML  table cell \n",
    "    Input: the  element of a table data cell extracts extra row\n",
    "    \"\"\"\n",
    "    out=''.join([booster_version for i,booster_version in enumerate( table_cells.strings) if i%2==0][0:-1])\n",
    "    return out\n",
    "\n",
    "def landing_status(table_cells):\n",
    "    \"\"\"\n",
    "    This function returns the landing status from the HTML table cell \n",
    "    Input: the  element of a table data cell extracts extra row\n",
    "    \"\"\"\n",
    "    out=[i for i in table_cells.strings][0]\n",
    "    return out\n",
    "\n",
    "\n",
    "def get_mass(table_cells):\n",
    "    mass=unicodedata.normalize(\"NFKD\", table_cells.text).strip()\n",
    "    if mass:\n",
    "        mass.find(\"kg\")\n",
    "        new_mass=mass[0:mass.find(\"kg\")+2]\n",
    "    else:\n",
    "        new_mass=0\n",
    "    return new_mass\n",
    "\n",
    "\n",
    "def extract_column_from_header(row):\n",
    "    \"\"\"\n",
    "    This function returns the landing status from the HTML table cell \n",
    "    Input: the  element of a table data cell extracts extra row\n",
    "    \"\"\"\n",
    "    if (row.br):\n",
    "        row.br.extract()\n",
    "    if row.a:\n",
    "        row.a.extract()\n",
    "    if row.sup:\n",
    "        row.sup.extract()\n",
    "        \n",
    "    colunm_name = ' '.join(row.contents)\n",
    "    \n",
    "    # Filter the digit and empty names\n",
    "    if not(colunm_name.strip().isdigit()):\n",
    "        colunm_name = colunm_name.strip()\n",
    "        return colunm_name    \n"
   ]
  },
  {
   "cell_type": "markdown",
   "metadata": {},
   "source": [
    "To keep the lab tasks consistent, you will be asked to scrape the data from a snapshot of the  `List of Falcon 9 and Falcon Heavy launches` Wikipage updated on\n",
    "`9th June 2021`\n"
   ]
  },
  {
   "cell_type": "code",
   "execution_count": 4,
   "metadata": {
    "tags": []
   },
   "outputs": [],
   "source": [
    "static_url = \"https://en.wikipedia.org/w/index.php?title=List_of_Falcon_9_and_Falcon_Heavy_launches&oldid=1027686922\""
   ]
  },
  {
   "cell_type": "markdown",
   "metadata": {},
   "source": [
    "Next, request the HTML page from the above URL and get a `response` object\n"
   ]
  },
  {
   "cell_type": "markdown",
   "metadata": {},
   "source": [
    "### TASK 1: Request the Falcon9 Launch Wiki page from its URL\n"
   ]
  },
  {
   "cell_type": "markdown",
   "metadata": {},
   "source": [
    "First, let's perform an HTTP GET method to request the Falcon9 Launch HTML page, as an HTTP response.\n"
   ]
  },
  {
   "cell_type": "code",
   "execution_count": 7,
   "metadata": {
    "tags": []
   },
   "outputs": [],
   "source": [
    "# use requests.get() method with the provided static_url\n",
    "data=requests.get(static_url)\n",
    "# assign the response to a object\n"
   ]
  },
  {
   "cell_type": "markdown",
   "metadata": {},
   "source": [
    "Create a `BeautifulSoup` object from the HTML `response`\n"
   ]
  },
  {
   "cell_type": "code",
   "execution_count": 10,
   "metadata": {
    "tags": []
   },
   "outputs": [],
   "source": [
    "# Use BeautifulSoup() to create a BeautifulSoup object from a response text content\n",
    "bs=BeautifulSoup(data.text)"
   ]
  },
  {
   "cell_type": "markdown",
   "metadata": {},
   "source": [
    "Print the page title to verify if the `BeautifulSoup` object was created properly \n"
   ]
  },
  {
   "cell_type": "code",
   "execution_count": 31,
   "metadata": {
    "tags": []
   },
   "outputs": [
    {
     "data": {
      "text/plain": [
       "[<meta charset=\"utf-8\"/>,\n",
       " <title>List of Falcon 9 and Falcon Heavy launches - Wikipedia</title>,\n",
       " <script>(function(){var className=\"client-js vector-feature-language-in-header-enabled vector-feature-language-in-main-page-header-disabled vector-feature-sticky-header-disabled vector-feature-page-tools-pinned-disabled vector-feature-toc-pinned-clientpref-1 vector-feature-main-menu-pinned-disabled vector-feature-limited-width-clientpref-1 vector-feature-limited-width-content-enabled vector-feature-custom-font-size-clientpref-1 vector-feature-appearance-pinned-clientpref-1 vector-feature-night-mode-enabled skin-theme-clientpref-day vector-toc-available\";var cookie=document.cookie.match(/(?:^|; )enwikimwclientpreferences=([^;]+)/);if(cookie){cookie[1].split('%2C').forEach(function(pref){className=className.replace(new RegExp('(^| )'+pref.replace(/-clientpref-\\w+$|[^\\w-]+/g,'')+'-clientpref-\\\\w+( |$)'),'$1'+pref+'$2');});}document.documentElement.className=className;}());RLCONF={\"wgBreakFrames\":false,\"wgSeparatorTransformTable\":[\"\",\"\"],\"wgDigitTransformTable\":[\"\",\"\"],\"wgDefaultDateFormat\":\"dmy\",\n",
       " \"wgMonthNames\":[\"\",\"January\",\"February\",\"March\",\"April\",\"May\",\"June\",\"July\",\"August\",\"September\",\"October\",\"November\",\"December\"],\"wgRequestId\":\"22fa128d-2ee5-4ad9-b995-652ceac02255\",\"wgCanonicalNamespace\":\"\",\"wgCanonicalSpecialPageName\":false,\"wgNamespaceNumber\":0,\"wgPageName\":\"List_of_Falcon_9_and_Falcon_Heavy_launches\",\"wgTitle\":\"List of Falcon 9 and Falcon Heavy launches\",\"wgCurRevisionId\":1269322116,\"wgRevisionId\":1027686922,\"wgArticleId\":37574004,\"wgIsArticle\":true,\"wgIsRedirect\":false,\"wgAction\":\"view\",\"wgUserName\":null,\"wgUserGroups\":[\"*\"],\"wgCategories\":[\"Source attribution\",\"CS1 maint: multiple names: authors list\",\"All articles with dead external links\",\"Articles with dead external links from February 2021\",\"Articles with permanently dead external links\",\"CS1 Spanish-language sources (es)\",\"CS1 Indonesian-language sources (id)\",\"CS1 errors: generic name\",\"CS1 maint: numeric names: authors list\",\"CS1 errors: external links\",\"CS1 maint: url-status\",\n",
       " \"CS1 German-language sources (de)\",\"CS1 Korean-language sources (ko)\",\"Articles with short description\",\"Short description is different from Wikidata\",\"Use American English from January 2021\",\"All Wikipedia articles written in American English\",\"Use dmy dates from January 2021\",\"Articles containing potentially dated statements from March 2018\",\"All articles containing potentially dated statements\",\"All articles with failed verification\",\"Articles with failed verification from May 2021\",\"Articles containing potentially dated statements from April 2020\",\"Pages using multiple image with auto scaled images\",\"Featured lists\",\"Articles containing video clips\",\"Falcon 9 and Falcon Heavy launches\",\"SpaceX launch vehicles\",\"Lists of rocket launches\"],\"wgPageViewLanguage\":\"en\",\"wgPageContentLanguage\":\"en\",\"wgPageContentModel\":\"wikitext\",\"wgRelevantPageName\":\"List_of_Falcon_9_and_Falcon_Heavy_launches\",\"wgRelevantArticleId\":37574004,\"wgIsProbablyEditable\":true,\"wgRelevantPageIsProbablyEditable\":\n",
       " true,\"wgRestrictionEdit\":[],\"wgRestrictionMove\":[],\"wgNoticeProject\":\"wikipedia\",\"wgCiteReferencePreviewsActive\":false,\"wgFlaggedRevsParams\":{\"tags\":{\"status\":{\"levels\":1}}},\"wgMediaViewerOnClick\":true,\"wgMediaViewerEnabledByDefault\":true,\"wgPopupsFlags\":0,\"wgVisualEditor\":{\"pageLanguageCode\":\"en\",\"pageLanguageDir\":\"ltr\",\"pageVariantFallbacks\":\"en\"},\"wgMFDisplayWikibaseDescriptions\":{\"search\":true,\"watchlist\":true,\"tagline\":false,\"nearby\":true},\"wgWMESchemaEditAttemptStepOversample\":false,\"wgWMEPageLength\":500000,\"wgRelatedArticlesCompat\":[],\"wgEditSubmitButtonLabelPublish\":true,\"wgULSPosition\":\"interlanguage\",\"wgULSisCompactLinksEnabled\":false,\"wgVector2022LanguageInHeader\":true,\"wgULSisLanguageSelectorEmpty\":false,\"wgWikibaseItemId\":\"Q6570672\",\"wgCheckUserClientHintsHeadersJsApi\":[\"brands\",\"architecture\",\"bitness\",\"fullVersionList\",\"mobile\",\"model\",\"platform\",\"platformVersion\"],\"GEHomepageSuggestedEditsEnableTopics\":true,\"wgGETopicsMatchModeEnabled\":false,\n",
       " \"wgGEStructuredTaskRejectionReasonTextInputEnabled\":false,\"wgGELevelingUpEnabledForUser\":false};RLSTATE={\"ext.globalCssJs.user.styles\":\"ready\",\"site.styles\":\"ready\",\"user.styles\":\"ready\",\"ext.globalCssJs.user\":\"ready\",\"user\":\"ready\",\"user.options\":\"loading\",\"mediawiki.action.styles\":\"ready\",\"mediawiki.interface.helpers.styles\":\"ready\",\"mediawiki.codex.messagebox.styles\":\"ready\",\"ext.cite.styles\":\"ready\",\"ext.tmh.player.styles\":\"ready\",\"skins.vector.search.codex.styles\":\"ready\",\"skins.vector.styles\":\"ready\",\"skins.vector.icons\":\"ready\",\"jquery.makeCollapsible.styles\":\"ready\",\"ext.wikimediamessages.styles\":\"ready\",\"ext.visualEditor.desktopArticleTarget.noscript\":\"ready\",\"ext.uls.interlanguage\":\"ready\",\"wikibase.client.init\":\"ready\",\"ext.wikimediaBadges\":\"ready\"};RLPAGEMODULES=[\"ext.cite.ux-enhancements\",\"mediawiki.page.media\",\"ext.tmh.player\",\"site\",\"mediawiki.page.ready\",\"jquery.makeCollapsible\",\"mediawiki.toc\",\"skins.vector.js\",\"ext.centralNotice.geoIP\",\"ext.centralNotice.startUp\",\n",
       " \"ext.gadget.ReferenceTooltips\",\"ext.gadget.switcher\",\"ext.urlShortener.toolbar\",\"ext.centralauth.centralautologin\",\"mmv.bootstrap\",\"ext.popups\",\"ext.visualEditor.desktopArticleTarget.init\",\"ext.visualEditor.targetLoader\",\"ext.echo.centralauth\",\"ext.eventLogging\",\"ext.wikimediaEvents\",\"ext.navigationTiming\",\"ext.uls.interface\",\"ext.cx.eventlogging.campaigns\",\"ext.cx.uls.quick.actions\",\"wikibase.client.vector-2022\",\"ext.checkUser.clientHints\",\"ext.growthExperiments.SuggestedEditSession\"];</script>,\n",
       " <script>(RLQ=window.RLQ||[]).push(function(){mw.loader.impl(function(){return[\"user.options@12s5i\",function($,jQuery,require,module){mw.user.tokens.set({\"patrolToken\":\"+\\\\\",\"watchToken\":\"+\\\\\",\"csrfToken\":\"+\\\\\"});\n",
       " }];});});</script>,\n",
       " <link href=\"/w/load.php?lang=en&amp;modules=ext.cite.styles%7Cext.tmh.player.styles%7Cext.uls.interlanguage%7Cext.visualEditor.desktopArticleTarget.noscript%7Cext.wikimediaBadges%7Cext.wikimediamessages.styles%7Cjquery.makeCollapsible.styles%7Cmediawiki.action.styles%7Cmediawiki.codex.messagebox.styles%7Cmediawiki.interface.helpers.styles%7Cskins.vector.icons%2Cstyles%7Cskins.vector.search.codex.styles%7Cwikibase.client.init&amp;only=styles&amp;skin=vector-2022\" rel=\"stylesheet\"/>,\n",
       " <script async=\"\" src=\"/w/load.php?lang=en&amp;modules=startup&amp;only=scripts&amp;raw=1&amp;skin=vector-2022\"></script>,\n",
       " <meta content=\"\" name=\"ResourceLoaderDynamicStyles\"/>,\n",
       " <link href=\"/w/load.php?lang=en&amp;modules=site.styles&amp;only=styles&amp;skin=vector-2022\" rel=\"stylesheet\"/>,\n",
       " <meta content=\"MediaWiki 1.44.0-wmf.11\" name=\"generator\"/>,\n",
       " <meta content=\"origin\" name=\"referrer\"/>,\n",
       " <meta content=\"origin-when-cross-origin\" name=\"referrer\"/>,\n",
       " <meta content=\"noindex,nofollow,max-image-preview:standard\" name=\"robots\"/>,\n",
       " <meta content=\"telephone=no\" name=\"format-detection\"/>,\n",
       " <meta content=\"https://upload.wikimedia.org/wikipedia/commons/thumb/7/72/F9_and_Heavy_visu.png/1200px-F9_and_Heavy_visu.png\" property=\"og:image\"/>,\n",
       " <meta content=\"1200\" property=\"og:image:width\"/>,\n",
       " <meta content=\"584\" property=\"og:image:height\"/>,\n",
       " <meta content=\"https://upload.wikimedia.org/wikipedia/commons/thumb/7/72/F9_and_Heavy_visu.png/800px-F9_and_Heavy_visu.png\" property=\"og:image\"/>,\n",
       " <meta content=\"800\" property=\"og:image:width\"/>,\n",
       " <meta content=\"389\" property=\"og:image:height\"/>,\n",
       " <meta content=\"https://upload.wikimedia.org/wikipedia/commons/thumb/7/72/F9_and_Heavy_visu.png/640px-F9_and_Heavy_visu.png\" property=\"og:image\"/>,\n",
       " <meta content=\"640\" property=\"og:image:width\"/>,\n",
       " <meta content=\"311\" property=\"og:image:height\"/>,\n",
       " <meta content=\"width=1120\" name=\"viewport\"/>,\n",
       " <meta content=\"List of Falcon 9 and Falcon Heavy launches - Wikipedia\" property=\"og:title\"/>,\n",
       " <meta content=\"website\" property=\"og:type\"/>,\n",
       " <link href=\"//upload.wikimedia.org\" rel=\"preconnect\"/>,\n",
       " <link href=\"//en.m.wikipedia.org/wiki/List_of_Falcon_9_and_Falcon_Heavy_launches\" media=\"only screen and (max-width: 640px)\" rel=\"alternate\"/>,\n",
       " <link href=\"/w/index.php?title=List_of_Falcon_9_and_Falcon_Heavy_launches&amp;action=edit\" rel=\"alternate\" title=\"Edit this page\" type=\"application/x-wiki\"/>,\n",
       " <link href=\"/static/apple-touch/wikipedia.png\" rel=\"apple-touch-icon\"/>,\n",
       " <link href=\"/static/favicon/wikipedia.ico\" rel=\"icon\"/>,\n",
       " <link href=\"/w/rest.php/v1/search\" rel=\"search\" title=\"Wikipedia (en)\" type=\"application/opensearchdescription+xml\"/>,\n",
       " <link href=\"//en.wikipedia.org/w/api.php?action=rsd\" rel=\"EditURI\" type=\"application/rsd+xml\"/>,\n",
       " <link href=\"https://en.wikipedia.org/wiki/List_of_Falcon_9_and_Falcon_Heavy_launches\" rel=\"canonical\"/>,\n",
       " <link href=\"https://creativecommons.org/licenses/by-sa/4.0/deed.en\" rel=\"license\"/>,\n",
       " <link href=\"/w/index.php?title=Special:RecentChanges&amp;feed=atom\" rel=\"alternate\" title=\"Wikipedia Atom feed\" type=\"application/atom+xml\"/>,\n",
       " <link href=\"//meta.wikimedia.org\" rel=\"dns-prefetch\"/>,\n",
       " <link href=\"login.wikimedia.org\" rel=\"dns-prefetch\"/>]"
      ]
     },
     "execution_count": 31,
     "metadata": {},
     "output_type": "execute_result"
    }
   ],
   "source": [
    "# Use soup.title attribute\n",
    "bs.title\n",
    "bs.head()"
   ]
  },
  {
   "cell_type": "markdown",
   "metadata": {},
   "source": [
    "### TASK 2: Extract all column/variable names from the HTML table header\n"
   ]
  },
  {
   "cell_type": "markdown",
   "metadata": {},
   "source": [
    "Next, we want to collect all relevant column names from the HTML table header\n"
   ]
  },
  {
   "cell_type": "markdown",
   "metadata": {},
   "source": [
    "Let's try to find all tables on the wiki page first. If you need to refresh your memory about `BeautifulSoup`, please check the external reference link towards the end of this lab\n"
   ]
  },
  {
   "cell_type": "code",
   "execution_count": 34,
   "metadata": {
    "tags": []
   },
   "outputs": [],
   "source": [
    "# Use the find_all function in the BeautifulSoup object, with element type `table`\n",
    "html_tables=bs.find_all('table')\n",
    "# Assign the result to a list called `html_tables`\n"
   ]
  },
  {
   "cell_type": "markdown",
   "metadata": {},
   "source": [
    "Starting from the third table is our target table contains the actual launch records.\n"
   ]
  },
  {
   "cell_type": "code",
   "execution_count": 38,
   "metadata": {
    "tags": []
   },
   "outputs": [
    {
     "name": "stdout",
     "output_type": "stream",
     "text": [
      "[<tr>\n",
      "<td class=\"col-break\">\n",
      "<div class=\"mw-heading mw-heading3\"><h3 id=\"Rocket_configurations\">Rocket configurations</h3></div>\n",
      "<div class=\"chart noresize\" style=\"padding-top:10px;margin-top:1em;max-width:420px;\">\n",
      "<div style=\"position:relative;min-height:320px;min-width:420px;max-width:420px;\">\n",
      "<div style=\"float:right;position:relative;min-height:240px;min-width:320px;max-width:320px;border-left:1px black solid;border-bottom:1px black solid;\">\n",
      "<div style=\"position:absolute;left:3px;top:224px;height:15px;min-width:18px;max-width:18px;background-color:LightSteelBlue;-webkit-print-color-adjust:exact;border:1px solid LightSteelBlue;border-bottom:none;overflow:hidden;\" title=\"[[Falcon 9 v1.0]]: 2\"></div>\n",
      "<div style=\"position:absolute;left:55px;top:224px;height:15px;min-width:18px;max-width:18px;background-color:LightSteelBlue;-webkit-print-color-adjust:exact;border:1px solid LightSteelBlue;border-bottom:none;overflow:hidden;\" title=\"[[Falcon 9 v1.0]]: 2\"></div>\n",
      "<div style=\"position:absolute;left:81px;top:232px;height:7px;min-width:18px;max-width:18px;background-color:LightSteelBlue;-webkit-print-color-adjust:exact;border:1px solid LightSteelBlue;border-bottom:none;overflow:hidden;\" title=\"[[Falcon 9 v1.0]]: 1\"></div>\n",
      "<div style=\"position:absolute;left:81px;top:216px;height:15px;min-width:18px;max-width:18px;background-color:SteelBlue;-webkit-print-color-adjust:exact;border:1px solid SteelBlue;border-bottom:none;overflow:hidden;\" title=\"[[Falcon 9 v1.1]]: 2\"></div>\n",
      "<div style=\"position:absolute;left:107px;top:192px;height:47px;min-width:18px;max-width:18px;background-color:SteelBlue;-webkit-print-color-adjust:exact;border:1px solid SteelBlue;border-bottom:none;overflow:hidden;\" title=\"[[Falcon 9 v1.1]]: 6\"></div>\n",
      "<div style=\"position:absolute;left:133px;top:192px;height:47px;min-width:18px;max-width:18px;background-color:SteelBlue;-webkit-print-color-adjust:exact;border:1px solid SteelBlue;border-bottom:none;overflow:hidden;\" title=\"[[Falcon 9 v1.1]]: 6\"></div>\n",
      "<div style=\"position:absolute;left:159px;top:232px;height:7px;min-width:18px;max-width:18px;background-color:SteelBlue;-webkit-print-color-adjust:exact;border:1px solid SteelBlue;border-bottom:none;overflow:hidden;\" title=\"[[Falcon 9 v1.1]]: 1\"></div>\n",
      "<div style=\"position:absolute;left:133px;top:184px;height:7px;min-width:18px;max-width:18px;background-color:MediumBlue;-webkit-print-color-adjust:exact;border:1px solid MediumBlue;border-bottom:none;overflow:hidden;\" title=\"[[Falcon 9 Full Thrust]]: 1\"></div>\n",
      "<div style=\"position:absolute;left:159px;top:176px;height:55px;min-width:18px;max-width:18px;background-color:MediumBlue;-webkit-print-color-adjust:exact;border:1px solid MediumBlue;border-bottom:none;overflow:hidden;\" title=\"[[Falcon 9 Full Thrust]]: 7\"></div>\n",
      "<div style=\"position:absolute;left:185px;top:136px;height:103px;min-width:18px;max-width:18px;background-color:MediumBlue;-webkit-print-color-adjust:exact;border:1px solid MediumBlue;border-bottom:none;overflow:hidden;\" title=\"[[Falcon 9 Full Thrust]]: 13\"></div>\n",
      "<div style=\"position:absolute;left:211px;top:216px;height:23px;min-width:18px;max-width:18px;background-color:MediumBlue;-webkit-print-color-adjust:exact;border:1px solid MediumBlue;border-bottom:none;overflow:hidden;\" title=\"[[Falcon 9 Full Thrust]]: 3\"></div>\n",
      "<div style=\"position:absolute;left:185px;top:96px;height:39px;min-width:18px;max-width:18px;background-color:CornflowerBlue;-webkit-print-color-adjust:exact;border:1px solid CornflowerBlue;border-bottom:none;overflow:hidden;\" title=\"Falcon 9 FT (reused): 5\"></div>\n",
      "<div style=\"position:absolute;left:211px;top:160px;height:55px;min-width:18px;max-width:18px;background-color:CornflowerBlue;-webkit-print-color-adjust:exact;border:1px solid CornflowerBlue;border-bottom:none;overflow:hidden;\" title=\"Falcon 9 FT (reused): 7\"></div>\n",
      "<div style=\"position:absolute;left:211px;top:112px;height:47px;min-width:18px;max-width:18px;background-color:Teal;-webkit-print-color-adjust:exact;border:1px solid Teal;border-bottom:none;overflow:hidden;\" title=\"[[Falcon 9 Block 5]]: 6\"></div>\n",
      "<div style=\"position:absolute;left:237px;top:216px;height:23px;min-width:18px;max-width:18px;background-color:Teal;-webkit-print-color-adjust:exact;border:1px solid Teal;border-bottom:none;overflow:hidden;\" title=\"[[Falcon 9 Block 5]]: 3\"></div>\n",
      "<div style=\"position:absolute;left:263px;top:200px;height:39px;min-width:18px;max-width:18px;background-color:Teal;-webkit-print-color-adjust:exact;border:1px solid Teal;border-bottom:none;overflow:hidden;\" title=\"[[Falcon 9 Block 5]]: 5\"></div>\n",
      "<div style=\"position:absolute;left:289px;top:232px;height:7px;min-width:18px;max-width:18px;background-color:Teal;-webkit-print-color-adjust:exact;border:1px solid Teal;border-bottom:none;overflow:hidden;\" title=\"[[Falcon 9 Block 5]]: 1\"></div>\n",
      "<div style=\"position:absolute;left:211px;top:80px;height:31px;min-width:18px;max-width:18px;background-color:LightSeaGreen;-webkit-print-color-adjust:exact;border:1px solid LightSeaGreen;border-bottom:none;overflow:hidden;\" title=\"Falcon 9 B5 (reused): 4\"></div>\n",
      "<div style=\"position:absolute;left:237px;top:152px;height:63px;min-width:18px;max-width:18px;background-color:LightSeaGreen;-webkit-print-color-adjust:exact;border:1px solid LightSeaGreen;border-bottom:none;overflow:hidden;\" title=\"Falcon 9 B5 (reused): 8\"></div>\n",
      "<div style=\"position:absolute;left:263px;top:32px;height:167px;min-width:18px;max-width:18px;background-color:LightSeaGreen;-webkit-print-color-adjust:exact;border:1px solid LightSeaGreen;border-bottom:none;overflow:hidden;\" title=\"Falcon 9 B5 (reused): 21\"></div>\n",
      "<div style=\"position:absolute;left:289px;top:96px;height:135px;min-width:18px;max-width:18px;background-color:LightSeaGreen;-webkit-print-color-adjust:exact;border:1px solid LightSeaGreen;border-bottom:none;overflow:hidden;\" title=\"Falcon 9 B5 (reused): 17\"></div>\n",
      "<div style=\"position:absolute;left:211px;top:72px;height:7px;min-width:18px;max-width:18px;background-color:Gold;-webkit-print-color-adjust:exact;border:1px solid Gold;border-bottom:none;overflow:hidden;\" title=\"[[Falcon Heavy]]: 1\"></div>\n",
      "<div style=\"position:absolute;left:237px;top:136px;height:15px;min-width:18px;max-width:18px;background-color:Gold;-webkit-print-color-adjust:exact;border:1px solid Gold;border-bottom:none;overflow:hidden;\" title=\"[[Falcon Heavy]]: 2\"></div>\n",
      "</div>\n",
      "<div style=\"position:absolute;height:240px;min-width:100px;max-width:100px;\">\n",
      "<div style=\"position:absolute;height=20px;text-align:right;vertical-align:middle;width:90px;top:190px;padding:0 2px\">5</div>\n",
      "<div style=\"position:absolute;height=1px;min-width:5px;top:200px;left:96px;border:1px solid black;\"></div>\n",
      "<div style=\"position:absolute;height=20px;text-align:right;vertical-align:middle;width:90px;top:150px;padding:0 2px\">10</div>\n",
      "<div style=\"position:absolute;height=1px;min-width:5px;top:160px;left:96px;border:1px solid black;\"></div>\n",
      "<div style=\"position:absolute;height=20px;text-align:right;vertical-align:middle;width:90px;top:110px;padding:0 2px\">15</div>\n",
      "<div style=\"position:absolute;height=1px;min-width:5px;top:120px;left:96px;border:1px solid black;\"></div>\n",
      "<div style=\"position:absolute;height=20px;text-align:right;vertical-align:middle;width:90px;top:70px;padding:0 2px\">20</div>\n",
      "<div style=\"position:absolute;height=1px;min-width:5px;top:80px;left:96px;border:1px solid black;\"></div>\n",
      "<div style=\"position:absolute;height=20px;text-align:right;vertical-align:middle;width:90px;top:30px;padding:0 2px\">25</div>\n",
      "<div style=\"position:absolute;height=1px;min-width:5px;top:40px;left:96px;border:1px solid black;\"></div>\n",
      "<div style=\"position:absolute;height=20px;text-align:right;vertical-align:middle;width:90px;top:-10px;padding:0 2px\">30</div>\n",
      "<div style=\"position:absolute;height=1px;min-width:5px;top:0px;left:96px;border:1px solid black;\"></div>\n",
      "</div>\n",
      "<div style=\"position:absolute;top:240px;left:100px;width:320px;\">\n",
      "<div style=\"position:absolute;left:1px;top:10px;min-width:24px;max-width:24px;text-align:center;vertical-align:top;\"><a href=\"#2010_to_2013\">'10</a></div>\n",
      "<div style=\"position:absolute;left:13px;height:10px;width:1px;border-left:1px solid black;\"></div>\n",
      "<div style=\"position:absolute;left:27px;top:10px;min-width:24px;max-width:24px;text-align:center;vertical-align:top;\"><a href=\"#2010_to_2013\">'11</a></div>\n",
      "<div style=\"position:absolute;left:39px;height:10px;width:1px;border-left:1px solid black;\"></div>\n",
      "<div style=\"position:absolute;left:53px;top:10px;min-width:24px;max-width:24px;text-align:center;vertical-align:top;\"><a href=\"#2010_to_2013\">'12</a></div>\n",
      "<div style=\"position:absolute;left:65px;height:10px;width:1px;border-left:1px solid black;\"></div>\n",
      "<div style=\"position:absolute;left:79px;top:10px;min-width:24px;max-width:24px;text-align:center;vertical-align:top;\"><a href=\"#2010_to_2013\">'13</a></div>\n",
      "<div style=\"position:absolute;left:91px;height:10px;width:1px;border-left:1px solid black;\"></div>\n",
      "<div style=\"position:absolute;left:105px;top:10px;min-width:24px;max-width:24px;text-align:center;vertical-align:top;\"><a href=\"#2014\">'14</a></div>\n",
      "<div style=\"position:absolute;left:117px;height:10px;width:1px;border-left:1px solid black;\"></div>\n",
      "<div style=\"position:absolute;left:131px;top:10px;min-width:24px;max-width:24px;text-align:center;vertical-align:top;\"><a href=\"#2015\">'15</a></div>\n",
      "<div style=\"position:absolute;left:143px;height:10px;width:1px;border-left:1px solid black;\"></div>\n",
      "<div style=\"position:absolute;left:157px;top:10px;min-width:24px;max-width:24px;text-align:center;vertical-align:top;\"><a href=\"#2016\">'16</a></div>\n",
      "<div style=\"position:absolute;left:169px;height:10px;width:1px;border-left:1px solid black;\"></div>\n",
      "<div style=\"position:absolute;left:183px;top:10px;min-width:24px;max-width:24px;text-align:center;vertical-align:top;\"><a href=\"#2017\">'17</a></div>\n",
      "<div style=\"position:absolute;left:195px;height:10px;width:1px;border-left:1px solid black;\"></div>\n",
      "<div style=\"position:absolute;left:209px;top:10px;min-width:24px;max-width:24px;text-align:center;vertical-align:top;\"><a href=\"#2018\">'18</a></div>\n",
      "<div style=\"position:absolute;left:221px;height:10px;width:1px;border-left:1px solid black;\"></div>\n",
      "<div style=\"position:absolute;left:235px;top:10px;min-width:24px;max-width:24px;text-align:center;vertical-align:top;\"><a href=\"#2019\">'19</a></div>\n",
      "<div style=\"position:absolute;left:247px;height:10px;width:1px;border-left:1px solid black;\"></div>\n",
      "<div style=\"position:absolute;left:261px;top:10px;min-width:24px;max-width:24px;text-align:center;vertical-align:top;\"><a href=\"#2020\">'20</a></div>\n",
      "<div style=\"position:absolute;left:273px;height:10px;width:1px;border-left:1px solid black;\"></div>\n",
      "<div style=\"position:absolute;left:287px;top:10px;min-width:24px;max-width:24px;text-align:center;vertical-align:top;\"><a href=\"#2021\">'21</a></div>\n",
      "<div style=\"position:absolute;left:299px;height:10px;width:1px;border-left:1px solid black;\"></div>\n",
      "</div>\n",
      "</div>\n",
      "<div>\n",
      "<ul style=\"list-style:none;column-width:12em;\"><li><span style=\"padding:0 1em;background-color:LightSteelBlue;border:1px solid LightSteelBlue;margin-right:1em;-webkit-print-color-adjust:exact;\"> </span> <a href=\"/wiki/Falcon_9_v1.0\" title=\"Falcon 9 v1.0\">Falcon 9 v1.0</a></li>\n",
      "<li><span style=\"padding:0 1em;background-color:SteelBlue;border:1px solid SteelBlue;margin-right:1em;-webkit-print-color-adjust:exact;\"> </span> <a href=\"/wiki/Falcon_9_v1.1\" title=\"Falcon 9 v1.1\">Falcon 9 v1.1</a></li>\n",
      "<li><span style=\"padding:0 1em;background-color:MediumBlue;border:1px solid MediumBlue;margin-right:1em;-webkit-print-color-adjust:exact;\"> </span> <a href=\"/wiki/Falcon_9_Full_Thrust\" title=\"Falcon 9 Full Thrust\">Falcon 9 Full Thrust</a></li>\n",
      "<li><span style=\"padding:0 1em;background-color:CornflowerBlue;border:1px solid CornflowerBlue;margin-right:1em;-webkit-print-color-adjust:exact;\"> </span> Falcon 9 FT (reused)</li>\n",
      "<li><span style=\"padding:0 1em;background-color:Teal;border:1px solid Teal;margin-right:1em;-webkit-print-color-adjust:exact;\"> </span> <a href=\"/wiki/Falcon_9_Block_5\" title=\"Falcon 9 Block 5\">Falcon 9 Block 5</a></li>\n",
      "<li><span style=\"padding:0 1em;background-color:LightSeaGreen;border:1px solid LightSeaGreen;margin-right:1em;-webkit-print-color-adjust:exact;\"> </span> Falcon 9 B5 (reused)</li>\n",
      "<li><span style=\"padding:0 1em;background-color:Gold;border:1px solid Gold;margin-right:1em;-webkit-print-color-adjust:exact;\"> </span> <a href=\"/wiki/Falcon_Heavy\" title=\"Falcon Heavy\">Falcon Heavy</a></li></ul>\n",
      "</div>\n",
      "</div>\n",
      "<p><br/>\n",
      "</p>\n",
      "</td>\n",
      "<td class=\"col-break\">\n",
      "<div class=\"mw-heading mw-heading3\"><h3 id=\"Launch_sites\">Launch sites</h3></div>\n",
      "<div class=\"chart noresize\" style=\"padding-top:10px;margin-top:1em;max-width:420px;\">\n",
      "<div style=\"position:relative;min-height:320px;min-width:420px;max-width:420px;\">\n",
      "<div style=\"float:right;position:relative;min-height:240px;min-width:320px;max-width:320px;border-left:1px black solid;border-bottom:1px black solid;\">\n",
      "<div style=\"position:absolute;left:3px;top:224px;height:15px;min-width:18px;max-width:18px;background-color:Goldenrod;-webkit-print-color-adjust:exact;border:1px solid Goldenrod;border-bottom:none;overflow:hidden;\" title=\"[[Cape Canaveral Space Force Station|CCSFS]], [[Cape Canaveral Space Launch Complex 40|SLC-40]]: 2\"></div>\n",
      "<div style=\"position:absolute;left:55px;top:224px;height:15px;min-width:18px;max-width:18px;background-color:Goldenrod;-webkit-print-color-adjust:exact;border:1px solid Goldenrod;border-bottom:none;overflow:hidden;\" title=\"[[Cape Canaveral Space Force Station|CCSFS]], [[Cape Canaveral Space Launch Complex 40|SLC-40]]: 2\"></div>\n",
      "<div style=\"position:absolute;left:81px;top:224px;height:15px;min-width:18px;max-width:18px;background-color:Goldenrod;-webkit-print-color-adjust:exact;border:1px solid Goldenrod;border-bottom:none;overflow:hidden;\" title=\"[[Cape Canaveral Space Force Station|CCSFS]], [[Cape Canaveral Space Launch Complex 40|SLC-40]]: 2\"></div>\n",
      "<div style=\"position:absolute;left:107px;top:192px;height:47px;min-width:18px;max-width:18px;background-color:Goldenrod;-webkit-print-color-adjust:exact;border:1px solid Goldenrod;border-bottom:none;overflow:hidden;\" title=\"[[Cape Canaveral Space Force Station|CCSFS]], [[Cape Canaveral Space Launch Complex 40|SLC-40]]: 6\"></div>\n",
      "<div style=\"position:absolute;left:133px;top:184px;height:55px;min-width:18px;max-width:18px;background-color:Goldenrod;-webkit-print-color-adjust:exact;border:1px solid Goldenrod;border-bottom:none;overflow:hidden;\" title=\"[[Cape Canaveral Space Force Station|CCSFS]], [[Cape Canaveral Space Launch Complex 40|SLC-40]]: 7\"></div>\n",
      "<div style=\"position:absolute;left:159px;top:184px;height:55px;min-width:18px;max-width:18px;background-color:Goldenrod;-webkit-print-color-adjust:exact;border:1px solid Goldenrod;border-bottom:none;overflow:hidden;\" title=\"[[Cape Canaveral Space Force Station|CCSFS]], [[Cape Canaveral Space Launch Complex 40|SLC-40]]: 7\"></div>\n",
      "<div style=\"position:absolute;left:185px;top:232px;height:7px;min-width:18px;max-width:18px;background-color:Goldenrod;-webkit-print-color-adjust:exact;border:1px solid Goldenrod;border-bottom:none;overflow:hidden;\" title=\"[[Cape Canaveral Space Force Station|CCSFS]], [[Cape Canaveral Space Launch Complex 40|SLC-40]]: 1\"></div>\n",
      "<div style=\"position:absolute;left:211px;top:144px;height:95px;min-width:18px;max-width:18px;background-color:Goldenrod;-webkit-print-color-adjust:exact;border:1px solid Goldenrod;border-bottom:none;overflow:hidden;\" title=\"[[Cape Canaveral Space Force Station|CCSFS]], [[Cape Canaveral Space Launch Complex 40|SLC-40]]: 12\"></div>\n",
      "<div style=\"position:absolute;left:237px;top:176px;height:63px;min-width:18px;max-width:18px;background-color:Goldenrod;-webkit-print-color-adjust:exact;border:1px solid Goldenrod;border-bottom:none;overflow:hidden;\" title=\"[[Cape Canaveral Space Force Station|CCSFS]], [[Cape Canaveral Space Launch Complex 40|SLC-40]]: 8\"></div>\n",
      "<div style=\"position:absolute;left:263px;top:128px;height:111px;min-width:18px;max-width:18px;background-color:Goldenrod;-webkit-print-color-adjust:exact;border:1px solid Goldenrod;border-bottom:none;overflow:hidden;\" title=\"[[Cape Canaveral Space Force Station|CCSFS]], [[Cape Canaveral Space Launch Complex 40|SLC-40]]: 14\"></div>\n",
      "<div style=\"position:absolute;left:289px;top:152px;height:87px;min-width:18px;max-width:18px;background-color:Goldenrod;-webkit-print-color-adjust:exact;border:1px solid Goldenrod;border-bottom:none;overflow:hidden;\" title=\"[[Cape Canaveral Space Force Station|CCSFS]], [[Cape Canaveral Space Launch Complex 40|SLC-40]]: 11\"></div>\n",
      "<div style=\"position:absolute;left:185px;top:136px;height:95px;min-width:18px;max-width:18px;background-color:Chocolate;-webkit-print-color-adjust:exact;border:1px solid Chocolate;border-bottom:none;overflow:hidden;\" title=\"[[Kennedy Space Center|KSC]], [[Kennedy Space Center Launch Complex 39A|LC-39A]]: 12\"></div>\n",
      "<div style=\"position:absolute;left:211px;top:120px;height:23px;min-width:18px;max-width:18px;background-color:Chocolate;-webkit-print-color-adjust:exact;border:1px solid Chocolate;border-bottom:none;overflow:hidden;\" title=\"[[Kennedy Space Center|KSC]], [[Kennedy Space Center Launch Complex 39A|LC-39A]]: 3\"></div>\n",
      "<div style=\"position:absolute;left:237px;top:152px;height:23px;min-width:18px;max-width:18px;background-color:Chocolate;-webkit-print-color-adjust:exact;border:1px solid Chocolate;border-bottom:none;overflow:hidden;\" title=\"[[Kennedy Space Center|KSC]], [[Kennedy Space Center Launch Complex 39A|LC-39A]]: 3\"></div>\n",
      "<div style=\"position:absolute;left:263px;top:40px;height:87px;min-width:18px;max-width:18px;background-color:Chocolate;-webkit-print-color-adjust:exact;border:1px solid Chocolate;border-bottom:none;overflow:hidden;\" title=\"[[Kennedy Space Center|KSC]], [[Kennedy Space Center Launch Complex 39A|LC-39A]]: 11\"></div>\n",
      "<div style=\"position:absolute;left:289px;top:96px;height:55px;min-width:18px;max-width:18px;background-color:Chocolate;-webkit-print-color-adjust:exact;border:1px solid Chocolate;border-bottom:none;overflow:hidden;\" title=\"[[Kennedy Space Center|KSC]], [[Kennedy Space Center Launch Complex 39A|LC-39A]]: 7\"></div>\n",
      "<div style=\"position:absolute;left:81px;top:216px;height:7px;min-width:18px;max-width:18px;background-color:MediumPurple;-webkit-print-color-adjust:exact;border:1px solid MediumPurple;border-bottom:none;overflow:hidden;\" title=\"[[Vandenberg Air Force Base|VAFB]], [[Vandenberg Space Launch Complex 4|SLC-4E]]: 1\"></div>\n",
      "<div style=\"position:absolute;left:159px;top:176px;height:7px;min-width:18px;max-width:18px;background-color:MediumPurple;-webkit-print-color-adjust:exact;border:1px solid MediumPurple;border-bottom:none;overflow:hidden;\" title=\"[[Vandenberg Air Force Base|VAFB]], [[Vandenberg Space Launch Complex 4|SLC-4E]]: 1\"></div>\n",
      "<div style=\"position:absolute;left:185px;top:96px;height:39px;min-width:18px;max-width:18px;background-color:MediumPurple;-webkit-print-color-adjust:exact;border:1px solid MediumPurple;border-bottom:none;overflow:hidden;\" title=\"[[Vandenberg Air Force Base|VAFB]], [[Vandenberg Space Launch Complex 4|SLC-4E]]: 5\"></div>\n",
      "<div style=\"position:absolute;left:211px;top:72px;height:47px;min-width:18px;max-width:18px;background-color:MediumPurple;-webkit-print-color-adjust:exact;border:1px solid MediumPurple;border-bottom:none;overflow:hidden;\" title=\"[[Vandenberg Air Force Base|VAFB]], [[Vandenberg Space Launch Complex 4|SLC-4E]]: 6\"></div>\n",
      "<div style=\"position:absolute;left:237px;top:136px;height:15px;min-width:18px;max-width:18px;background-color:MediumPurple;-webkit-print-color-adjust:exact;border:1px solid MediumPurple;border-bottom:none;overflow:hidden;\" title=\"[[Vandenberg Air Force Base|VAFB]], [[Vandenberg Space Launch Complex 4|SLC-4E]]: 2\"></div>\n",
      "<div style=\"position:absolute;left:263px;top:32px;height:7px;min-width:18px;max-width:18px;background-color:MediumPurple;-webkit-print-color-adjust:exact;border:1px solid MediumPurple;border-bottom:none;overflow:hidden;\" title=\"[[Vandenberg Air Force Base|VAFB]], [[Vandenberg Space Launch Complex 4|SLC-4E]]: 1\"></div>\n",
      "</div>\n",
      "<div style=\"position:absolute;height:240px;min-width:100px;max-width:100px;\">\n",
      "<div style=\"position:absolute;height=20px;text-align:right;vertical-align:middle;width:90px;top:190px;padding:0 2px\">5</div>\n",
      "<div style=\"position:absolute;height=1px;min-width:5px;top:200px;left:96px;border:1px solid black;\"></div>\n",
      "<div style=\"position:absolute;height=20px;text-align:right;vertical-align:middle;width:90px;top:150px;padding:0 2px\">10</div>\n",
      "<div style=\"position:absolute;height=1px;min-width:5px;top:160px;left:96px;border:1px solid black;\"></div>\n",
      "<div style=\"position:absolute;height=20px;text-align:right;vertical-align:middle;width:90px;top:110px;padding:0 2px\">15</div>\n",
      "<div style=\"position:absolute;height=1px;min-width:5px;top:120px;left:96px;border:1px solid black;\"></div>\n",
      "<div style=\"position:absolute;height=20px;text-align:right;vertical-align:middle;width:90px;top:70px;padding:0 2px\">20</div>\n",
      "<div style=\"position:absolute;height=1px;min-width:5px;top:80px;left:96px;border:1px solid black;\"></div>\n",
      "<div style=\"position:absolute;height=20px;text-align:right;vertical-align:middle;width:90px;top:30px;padding:0 2px\">25</div>\n",
      "<div style=\"position:absolute;height=1px;min-width:5px;top:40px;left:96px;border:1px solid black;\"></div>\n",
      "<div style=\"position:absolute;height=20px;text-align:right;vertical-align:middle;width:90px;top:-10px;padding:0 2px\">30</div>\n",
      "<div style=\"position:absolute;height=1px;min-width:5px;top:0px;left:96px;border:1px solid black;\"></div>\n",
      "</div>\n",
      "<div style=\"position:absolute;top:240px;left:100px;width:320px;\">\n",
      "<div style=\"position:absolute;left:1px;top:10px;min-width:24px;max-width:24px;text-align:center;vertical-align:top;\">'10</div>\n",
      "<div style=\"position:absolute;left:13px;height:10px;width:1px;border-left:1px solid black;\"></div>\n",
      "<div style=\"position:absolute;left:27px;top:10px;min-width:24px;max-width:24px;text-align:center;vertical-align:top;\">'11</div>\n",
      "<div style=\"position:absolute;left:39px;height:10px;width:1px;border-left:1px solid black;\"></div>\n",
      "<div style=\"position:absolute;left:53px;top:10px;min-width:24px;max-width:24px;text-align:center;vertical-align:top;\">'12</div>\n",
      "<div style=\"position:absolute;left:65px;height:10px;width:1px;border-left:1px solid black;\"></div>\n",
      "<div style=\"position:absolute;left:79px;top:10px;min-width:24px;max-width:24px;text-align:center;vertical-align:top;\">'13</div>\n",
      "<div style=\"position:absolute;left:91px;height:10px;width:1px;border-left:1px solid black;\"></div>\n",
      "<div style=\"position:absolute;left:105px;top:10px;min-width:24px;max-width:24px;text-align:center;vertical-align:top;\">'14</div>\n",
      "<div style=\"position:absolute;left:117px;height:10px;width:1px;border-left:1px solid black;\"></div>\n",
      "<div style=\"position:absolute;left:131px;top:10px;min-width:24px;max-width:24px;text-align:center;vertical-align:top;\">'15</div>\n",
      "<div style=\"position:absolute;left:143px;height:10px;width:1px;border-left:1px solid black;\"></div>\n",
      "<div style=\"position:absolute;left:157px;top:10px;min-width:24px;max-width:24px;text-align:center;vertical-align:top;\">'16</div>\n",
      "<div style=\"position:absolute;left:169px;height:10px;width:1px;border-left:1px solid black;\"></div>\n",
      "<div style=\"position:absolute;left:183px;top:10px;min-width:24px;max-width:24px;text-align:center;vertical-align:top;\">'17</div>\n",
      "<div style=\"position:absolute;left:195px;height:10px;width:1px;border-left:1px solid black;\"></div>\n",
      "<div style=\"position:absolute;left:209px;top:10px;min-width:24px;max-width:24px;text-align:center;vertical-align:top;\">'18</div>\n",
      "<div style=\"position:absolute;left:221px;height:10px;width:1px;border-left:1px solid black;\"></div>\n",
      "<div style=\"position:absolute;left:235px;top:10px;min-width:24px;max-width:24px;text-align:center;vertical-align:top;\">'19</div>\n",
      "<div style=\"position:absolute;left:247px;height:10px;width:1px;border-left:1px solid black;\"></div>\n",
      "<div style=\"position:absolute;left:261px;top:10px;min-width:24px;max-width:24px;text-align:center;vertical-align:top;\">'20</div>\n",
      "<div style=\"position:absolute;left:273px;height:10px;width:1px;border-left:1px solid black;\"></div>\n",
      "<div style=\"position:absolute;left:287px;top:10px;min-width:24px;max-width:24px;text-align:center;vertical-align:top;\">'21</div>\n",
      "<div style=\"position:absolute;left:299px;height:10px;width:1px;border-left:1px solid black;\"></div>\n",
      "</div>\n",
      "</div>\n",
      "<div>\n",
      "<ul style=\"list-style:none;column-width:12em;\"><li><span style=\"padding:0 1em;background-color:Goldenrod;border:1px solid Goldenrod;margin-right:1em;-webkit-print-color-adjust:exact;\"> </span> <a href=\"/wiki/Cape_Canaveral_Space_Force_Station\" title=\"Cape Canaveral Space Force Station\">CCSFS</a>, <a href=\"/wiki/Cape_Canaveral_Space_Launch_Complex_40\" title=\"Cape Canaveral Space Launch Complex 40\">SLC-40</a></li>\n",
      "<li><span style=\"padding:0 1em;background-color:Chocolate;border:1px solid Chocolate;margin-right:1em;-webkit-print-color-adjust:exact;\"> </span> <a href=\"/wiki/Kennedy_Space_Center\" title=\"Kennedy Space Center\">KSC</a>, <a href=\"/wiki/Kennedy_Space_Center_Launch_Complex_39A\" title=\"Kennedy Space Center Launch Complex 39A\">LC-39A</a></li>\n",
      "<li><span style=\"padding:0 1em;background-color:MediumPurple;border:1px solid MediumPurple;margin-right:1em;-webkit-print-color-adjust:exact;\"> </span> <a class=\"mw-redirect\" href=\"/wiki/Vandenberg_Air_Force_Base\" title=\"Vandenberg Air Force Base\">VAFB</a>, <a href=\"/wiki/Vandenberg_Space_Launch_Complex_4\" title=\"Vandenberg Space Launch Complex 4\">SLC-4E</a></li></ul>\n",
      "</div>\n",
      "</div>\n",
      "<p>\n",
      "</p>\n",
      "</td></tr>]\n"
     ]
    }
   ],
   "source": [
    "# Let's print the third table and check its content\n",
    "first_launch_table = html_tables[0]\n",
    "print(first_launch_table.find_all('tr'))"
   ]
  },
  {
   "cell_type": "markdown",
   "metadata": {},
   "source": [
    "You should able to see the columns names embedded in the table header elements `<th>` as follows:\n"
   ]
  },
  {
   "cell_type": "markdown",
   "metadata": {},
   "source": [
    "```\n",
    "<tr>\n",
    "<th scope=\"col\">Flight No.\n",
    "</th>\n",
    "<th scope=\"col\">Date and<br/>time (<a href=\"/wiki/Coordinated_Universal_Time\" title=\"Coordinated Universal Time\">UTC</a>)\n",
    "</th>\n",
    "<th scope=\"col\"><a href=\"/wiki/List_of_Falcon_9_first-stage_boosters\" title=\"List of Falcon 9 first-stage boosters\">Version,<br/>Booster</a> <sup class=\"reference\" id=\"cite_ref-booster_11-0\"><a href=\"#cite_note-booster-11\">[b]</a></sup>\n",
    "</th>\n",
    "<th scope=\"col\">Launch site\n",
    "</th>\n",
    "<th scope=\"col\">Payload<sup class=\"reference\" id=\"cite_ref-Dragon_12-0\"><a href=\"#cite_note-Dragon-12\">[c]</a></sup>\n",
    "</th>\n",
    "<th scope=\"col\">Payload mass\n",
    "</th>\n",
    "<th scope=\"col\">Orbit\n",
    "</th>\n",
    "<th scope=\"col\">Customer\n",
    "</th>\n",
    "<th scope=\"col\">Launch<br/>outcome\n",
    "</th>\n",
    "<th scope=\"col\"><a href=\"/wiki/Falcon_9_first-stage_landing_tests\" title=\"Falcon 9 first-stage landing tests\">Booster<br/>landing</a>\n",
    "</th></tr>\n",
    "```\n"
   ]
  },
  {
   "cell_type": "markdown",
   "metadata": {},
   "source": [
    "Next, we just need to iterate through the `<th>` elements and apply the provided `extract_column_from_header()` to extract column name one by one\n"
   ]
  },
  {
   "cell_type": "code",
   "execution_count": 19,
   "metadata": {
    "tags": []
   },
   "outputs": [],
   "source": [
    "column_names = []\n",
    "\n",
    "# Apply find_all() function with `th` element on first_launch_table\n",
    "a=first_launch_table.find_all('th')\n",
    "for i in a:\n",
    "    if extract_column_from_header(i)!=None and len(extract_column_from_header(i))>0:\n",
    "        column_names.append(extract_column_from_header(i))\n",
    "# Iterate each th element and apply the provided extract_column_from_header() to get a column name\n",
    "# Append the Non-empty column name (`if name is not None and len(name) > 0`) into a list called column_names\n"
   ]
  },
  {
   "cell_type": "markdown",
   "metadata": {},
   "source": [
    "Check the extracted column names\n"
   ]
  },
  {
   "cell_type": "code",
   "execution_count": 20,
   "metadata": {
    "tags": []
   },
   "outputs": [
    {
     "name": "stdout",
     "output_type": "stream",
     "text": [
      "['Flight No.', 'Date and time ( )', 'Launch site', 'Payload', 'Payload mass', 'Orbit', 'Customer', 'Launch outcome']\n"
     ]
    }
   ],
   "source": [
    "print(column_names)"
   ]
  },
  {
   "cell_type": "markdown",
   "metadata": {},
   "source": [
    "## TASK 3: Create a data frame by parsing the launch HTML tables\n"
   ]
  },
  {
   "cell_type": "markdown",
   "metadata": {},
   "source": [
    "We will create an empty dictionary with keys from the extracted column names in the previous task. Later, this dictionary will be converted into a Pandas dataframe\n"
   ]
  },
  {
   "cell_type": "code",
   "execution_count": 21,
   "metadata": {
    "tags": []
   },
   "outputs": [],
   "source": [
    "launch_dict= dict.fromkeys(column_names)\n",
    "\n",
    "# Remove an irrelvant column\n",
    "del launch_dict['Date and time ( )']\n",
    "\n",
    "# Let's initial the launch_dict with each value to be an empty list\n",
    "launch_dict['Flight No.'] = []\n",
    "launch_dict['Launch site'] = []\n",
    "launch_dict['Payload'] = []\n",
    "launch_dict['Payload mass'] = []\n",
    "launch_dict['Orbit'] = []\n",
    "launch_dict['Customer'] = []\n",
    "launch_dict['Launch outcome'] = []\n",
    "# Added some new columns\n",
    "launch_dict['Version Booster']=[]\n",
    "launch_dict['Booster landing']=[]\n",
    "launch_dict['Date']=[]\n",
    "launch_dict['Time']=[]"
   ]
  },
  {
   "cell_type": "markdown",
   "metadata": {},
   "source": [
    "Next, we just need to fill up the `launch_dict` with launch records extracted from table rows.\n"
   ]
  },
  {
   "cell_type": "markdown",
   "metadata": {},
   "source": [
    "Usually, HTML tables in Wiki pages are likely to contain unexpected annotations and other types of noises, such as reference links `B0004.1[8]`, missing values `N/A [e]`, inconsistent formatting, etc.\n"
   ]
  },
  {
   "cell_type": "markdown",
   "metadata": {},
   "source": [
    "To simplify the parsing process, we have provided an incomplete code snippet below to help you to fill up the `launch_dict`. Please complete the following code snippet with TODOs or you can choose to write your own logic to parse all launch tables:\n"
   ]
  },
  {
   "cell_type": "code",
   "execution_count": 28,
   "metadata": {
    "tags": []
   },
   "outputs": [
    {
     "name": "stdout",
     "output_type": "stream",
     "text": [
      "F9 v1.07B0003.18\n",
      "F9 v1.07B0004.18\n",
      "F9 v1.07B0005.18\n",
      "F9 v1.07B0006.18\n",
      "F9 v1.07B0007.18\n",
      "F9 v1.17B10038\n",
      "F9 v1.1\n",
      "F9 v1.1\n",
      "F9 v1.1\n",
      "F9 v1.1\n",
      "F9 v1.1\n",
      "F9 v1.1[\n",
      "F9 v1.1[\n",
      "F9 v1.1[\n",
      "F9 v1.1[\n",
      "F9 v1.1[\n",
      "F9 v1.1[\n",
      "F9 v1.1[\n",
      "F9 v1.1[\n",
      "F9 FT[\n",
      "F9 v1.1[\n",
      "F9 FT[\n",
      "F9 FT[\n",
      "F9 FT[\n",
      "F9 FT[\n",
      "F9 FT[\n",
      "F9 FT[\n",
      "F9 FT[\n",
      "F9 FT[\n",
      "F9 FT[\n",
      "F9 FT[\n",
      "F9 FT♺[\n",
      "F9 FT[\n",
      "F9 FT[\n",
      "F9 FT[\n",
      "F9 FTB1029.2195\n",
      "F9 FT[\n",
      "F9 FT[\n",
      "F9 B4[\n",
      "F9 FT[\n",
      "F9 B4[\n",
      "F9 B4[\n",
      "F9 FTB1031.2220\n",
      "F9 B4[\n",
      "F9 FTB1035.2227\n",
      "F9 FTB1036.2227\n",
      "F9 B4[\n",
      "F9 FTB1032.2245\n",
      "F9 FTB1038.2268\n",
      "F9 B4[\n",
      "F9 B4B1041.2268\n",
      "F9 B4B1039.2292\n",
      "F9 B4[\n",
      "F9 B5311B1046.1268\n",
      "F9 B4B1043.2322\n",
      "F9 B4B1040.2268\n",
      "F9 B4B1045.2336\n",
      "F9 B5\n",
      "F9 B5349B1048[\n",
      "F9 B5B1046.2354\n",
      "F9 B5[\n",
      "F9 B5B1048.2364\n",
      "F9 B5B1047.2268\n",
      "F9 B5B1046.3268\n",
      "F9 B5[\n",
      "F9 B5[\n",
      "F9 B5B1049.2397\n",
      "F9 B5B1048.3399\n",
      "F9 B5[]413\n",
      "F9 B5[\n",
      "F9 B5B1049.3434\n",
      "F9 B5B1051.2420\n",
      "F9 B5B1056.2465\n",
      "F9 B5B1047.3472\n",
      "F9 B5\n",
      "F9 B5[\n",
      "F9 B5B1056.3482\n",
      "F9 B5\n",
      "F9 B5\n",
      "F9 B5\n",
      "F9 B5\n",
      "F9 B5\n",
      "F9 B5\n",
      "F9 B5\n",
      "F9 B5[\n",
      "F9 B5\n",
      "F9 B5\n",
      "F9 B5\n",
      "F9 B5B1058.2544\n",
      "F9 B5\n",
      "F9 B5B1049.6544\n",
      "F9 B5\n",
      "F9 B5B1060.2563\n",
      "F9 B5B1058.3565\n",
      "F9 B5B1051.6568\n",
      "F9 B5\n",
      "F9 B5\n",
      "F9 B5[\n",
      "F9 B5\n",
      "F9 B5 ♺[\n",
      "F9 B5 ♺[\n",
      "F9 B5 ♺\n",
      "F9 B5 ♺\n",
      "F9 B5\n",
      "F9 B5B1051.8609\n",
      "F9 B5B1058.5613\n",
      "F9 B5 ♺[\n",
      "F9 B5 ♺\n",
      "F9 B5 ♺[\n",
      "F9 B5 ♺[\n",
      "F9 B5 ♺\n",
      "F9 B5B1060.6643\n",
      "F9 B5 ♺\n",
      "F9 B5B1061.2647\n",
      "F9 B5B1060.7652\n",
      "F9 B5B1049.9655\n",
      "F9 B5B1051.10657\n",
      "F9 B5B1058.8660\n",
      "F9 B5B1063.2665\n",
      "F9 B5B1067.1668\n",
      "F9 B5\n"
     ]
    }
   ],
   "source": [
    "extracted_row = 0\n",
    "#Extract each table \n",
    "for table_number,table in enumerate(bs.find_all('table',\"wikitable plainrowheaders collapsible\")):\n",
    "   # get table row \n",
    "    for rows in table.find_all(\"tr\"):\n",
    "        #check to see if first table heading is as number corresponding to launch a number \n",
    "        if rows.th:\n",
    "            if rows.th.string:\n",
    "                flight_number=rows.th.string.strip()\n",
    "                flag=flight_number.isdigit()\n",
    "        else:\n",
    "            flag=False\n",
    "        #get table element \n",
    "        row=rows.find_all('td')\n",
    "        #if it is number save cells in a dictonary \n",
    "        if flag:\n",
    "            extracted_row += 1\n",
    "            # Flight Number value\n",
    "            # TODO: Append the flight_number into launch_dict with key `Flight No.`\n",
    "            #print(flight_number)\n",
    "            launch_dict['Flight No.'].append(flight_number)\n",
    "            datatimelist=date_time(row[0])\n",
    "            \n",
    "            # Date value\n",
    "            # TODO: Append the date into launch_dict with key `Date`\n",
    "            \n",
    "            date = datatimelist[0].strip(',')\n",
    "            launch_dict['Date'].append(date)\n",
    "            #print(date)\n",
    "            \n",
    "            # Time value\n",
    "            # TODO: Append the time into launch_dict with key `Time`\n",
    "            time = datatimelist[1]\n",
    "            launch_dict['Time'].append(time)\n",
    "            #print(time)\n",
    "              \n",
    "            # Booster version\n",
    "            # TODO: Append the bv into launch_dict with key `Version Booster`\n",
    "        \n",
    "            bv=booster_version(row[1])\n",
    "            \n",
    "            if not(bv):\n",
    "                bv=row[1].a.string\n",
    "            launch_dict['Version Booster'].append(bv)\n",
    "            print(bv)\n",
    "            \n",
    "            # Launch Site\n",
    "            # TODO: Append the bv into launch_dict with key `Launch Site`\n",
    "            launch_site = row[2].a.string\n",
    "            launch_dict['Launch site'].append(launch_site)\n",
    "            #print(launch_site)\n",
    "            \n",
    "            # Payload\n",
    "            # TODO: Append the payload into launch_dict with key `Payload`\n",
    "            payload = row[3].a.string\n",
    "            launch_dict['Payload'].append(payload)\n",
    "            #print(payload)\n",
    "            \n",
    "            # Payload Mass\n",
    "            # TODO: Append the payload_mass into launch_dict with key `Payload mass`\n",
    "            payload_mass = get_mass(row[4])\n",
    "            launch_dict['Payload mass'].append(payload_mass)\n",
    "            #print(payload)\n",
    "            \n",
    "            # Orbit\n",
    "            # TODO: Append the orbit into launch_dict with key `Orbit`\n",
    "            orbit = row[5].a.string\n",
    "            launch_dict['Orbit'].append(orbit)\n",
    "            #print(orbit)\n",
    "            \n",
    "            # Customer\n",
    "            # TODO: Append the customer into launch_dict with key `Customer`\n",
    "            if not (row[6]):\n",
    "                customer = row[6].a.string\n",
    "                launch_dict['Customer'].append(customer)\n",
    "            else:\n",
    "                launch_dict['Customer'].append(None)#print(customer)\n",
    "            \n",
    "            # Launch outcome\n",
    "            # TODO: Append the launch_outcome into launch_dict with key `Launch outcome`\n",
    "            launch_outcome = list(row[7].strings)[0]\n",
    "            launch_dict['Launch outcome'].append(launch_outcome)\n",
    "            #print(launch_outcome)\n",
    "            \n",
    "            # Booster landing\n",
    "            # TODO: Append the launch_outcome into launch_dict with key `Booster landing`\n",
    "            booster_landing = landing_status(row[8])\n",
    "            launch_dict['Booster landing'].append(booster_landing)\n",
    "            #print(booster_landing)\n",
    "            "
   ]
  },
  {
   "cell_type": "markdown",
   "metadata": {},
   "source": [
    "After you have fill in the parsed launch record values into `launch_dict`, you can create a dataframe from it.\n"
   ]
  },
  {
   "cell_type": "code",
   "execution_count": 29,
   "metadata": {
    "tags": []
   },
   "outputs": [],
   "source": [
    "df= pd.DataFrame({ key:pd.Series(value) for key, value in launch_dict.items() })"
   ]
  },
  {
   "cell_type": "markdown",
   "metadata": {},
   "source": [
    "We can now export it to a <b>CSV</b> for the next section, but to make the answers consistent and in case you have difficulties finishing this lab. \n",
    "\n",
    "Following labs will be using a provided dataset to make each lab independent. \n"
   ]
  },
  {
   "cell_type": "markdown",
   "metadata": {},
   "source": [
    "<code>df.to_csv('spacex_web_scraped.csv', index=False)</code>\n"
   ]
  },
  {
   "cell_type": "markdown",
   "metadata": {},
   "source": [
    "## Authors\n"
   ]
  },
  {
   "cell_type": "markdown",
   "metadata": {},
   "source": [
    "<a href=\"https://www.linkedin.com/in/yan-luo-96288783/\">Yan Luo</a>\n"
   ]
  },
  {
   "cell_type": "markdown",
   "metadata": {},
   "source": [
    "<a href=\"https://www.linkedin.com/in/nayefaboutayoun/\">Nayef Abou Tayoun</a>\n"
   ]
  },
  {
   "cell_type": "markdown",
   "metadata": {},
   "source": [
    "<!--\n",
    "## Change Log\n",
    "-->\n"
   ]
  },
  {
   "cell_type": "markdown",
   "metadata": {},
   "source": [
    "<!--\n",
    "| Date (YYYY-MM-DD) | Version | Changed By | Change Description      |\n",
    "| ----------------- | ------- | ---------- | ----------------------- |\n",
    "| 2021-06-09        | 1.0     | Yan Luo    | Tasks updates           |\n",
    "| 2020-11-10        | 1.0     | Nayef      | Created the initial version |\n",
    "-->\n"
   ]
  },
  {
   "cell_type": "markdown",
   "metadata": {},
   "source": [
    "Copyright © 2021 IBM Corporation. All rights reserved.\n"
   ]
  }
 ],
 "metadata": {
  "kernelspec": {
   "display_name": "Python",
   "language": "python",
   "name": "conda-env-python-py"
  },
  "language_info": {
   "codemirror_mode": {
    "name": "ipython",
    "version": 3
   },
   "file_extension": ".py",
   "mimetype": "text/x-python",
   "name": "python",
   "nbconvert_exporter": "python",
   "pygments_lexer": "ipython3",
   "version": "3.7.12"
  },
  "prev_pub_hash": "64f1b0aac408997185c47caba18730e0028b75e7934a0e5bf0ae73c5cb7ba677"
 },
 "nbformat": 4,
 "nbformat_minor": 4
}
